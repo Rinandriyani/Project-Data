{
 "cells": [
  {
   "cell_type": "markdown",
   "id": "20505f15-8cd1-4381-a89c-edf9c471ace8",
   "metadata": {
    "tags": []
   },
   "source": [
    "# BITCOIN PREDICTION"
   ]
  },
  {
   "cell_type": "markdown",
   "id": "1f2bf57c-912e-434d-a5b7-9df3f8c21cf9",
   "metadata": {},
   "source": [
    "### Getting Started"
   ]
  },
  {
   "cell_type": "code",
   "execution_count": 1,
   "id": "21279ed7-6670-4f3e-8228-6e59778ac5ce",
   "metadata": {},
   "outputs": [],
   "source": [
    "import numpy as np\n",
    "import matplotlib.pyplot as plt    \n",
    "from scipy import stats\n",
    "import pandas as pd\n",
    "from pandas import DataFrame"
   ]
  },
  {
   "cell_type": "code",
   "execution_count": 2,
   "id": "171542e8-3d75-4e02-a276-f183a177912d",
   "metadata": {},
   "outputs": [
    {
     "data": {
      "text/html": [
       "<div>\n",
       "<style scoped>\n",
       "    .dataframe tbody tr th:only-of-type {\n",
       "        vertical-align: middle;\n",
       "    }\n",
       "\n",
       "    .dataframe tbody tr th {\n",
       "        vertical-align: top;\n",
       "    }\n",
       "\n",
       "    .dataframe thead th {\n",
       "        text-align: right;\n",
       "    }\n",
       "</style>\n",
       "<table border=\"1\" class=\"dataframe\">\n",
       "  <thead>\n",
       "    <tr style=\"text-align: right;\">\n",
       "      <th></th>\n",
       "      <th>index</th>\n",
       "      <th>date</th>\n",
       "      <th>price</th>\n",
       "      <th>total_volume</th>\n",
       "      <th>market_cap</th>\n",
       "      <th>coin_name</th>\n",
       "    </tr>\n",
       "  </thead>\n",
       "  <tbody>\n",
       "    <tr>\n",
       "      <th>0</th>\n",
       "      <td>1</td>\n",
       "      <td>1/1/2015</td>\n",
       "      <td>313.992</td>\n",
       "      <td>4.699936e+07</td>\n",
       "      <td>4.293958e+09</td>\n",
       "      <td>bitcoin</td>\n",
       "    </tr>\n",
       "    <tr>\n",
       "      <th>1</th>\n",
       "      <td>2</td>\n",
       "      <td>1/2/2015</td>\n",
       "      <td>314.446</td>\n",
       "      <td>3.885591e+07</td>\n",
       "      <td>4.301448e+09</td>\n",
       "      <td>bitcoin</td>\n",
       "    </tr>\n",
       "    <tr>\n",
       "      <th>2</th>\n",
       "      <td>3</td>\n",
       "      <td>1/3/2015</td>\n",
       "      <td>286.572</td>\n",
       "      <td>1.187789e+08</td>\n",
       "      <td>3.921358e+09</td>\n",
       "      <td>bitcoin</td>\n",
       "    </tr>\n",
       "    <tr>\n",
       "      <th>3</th>\n",
       "      <td>4</td>\n",
       "      <td>1/4/2015</td>\n",
       "      <td>260.936</td>\n",
       "      <td>2.055001e+08</td>\n",
       "      <td>3.571640e+09</td>\n",
       "      <td>bitcoin</td>\n",
       "    </tr>\n",
       "    <tr>\n",
       "      <th>4</th>\n",
       "      <td>5</td>\n",
       "      <td>1/5/2015</td>\n",
       "      <td>273.220</td>\n",
       "      <td>1.550381e+08</td>\n",
       "      <td>3.740880e+09</td>\n",
       "      <td>bitcoin</td>\n",
       "    </tr>\n",
       "  </tbody>\n",
       "</table>\n",
       "</div>"
      ],
      "text/plain": [
       "   index      date    price  total_volume    market_cap coin_name\n",
       "0      1  1/1/2015  313.992  4.699936e+07  4.293958e+09   bitcoin\n",
       "1      2  1/2/2015  314.446  3.885591e+07  4.301448e+09   bitcoin\n",
       "2      3  1/3/2015  286.572  1.187789e+08  3.921358e+09   bitcoin\n",
       "3      4  1/4/2015  260.936  2.055001e+08  3.571640e+09   bitcoin\n",
       "4      5  1/5/2015  273.220  1.550381e+08  3.740880e+09   bitcoin"
      ]
     },
     "execution_count": 2,
     "metadata": {},
     "output_type": "execute_result"
    }
   ],
   "source": [
    "FILENAME = \"BTC.csv\"\n",
    "datafile = pd.read_csv(FILENAME)\n",
    "datafile.head()"
   ]
  },
  {
   "cell_type": "code",
   "execution_count": 3,
   "id": "00b7fb72-7b52-4c35-b797-cc694b4da975",
   "metadata": {},
   "outputs": [
    {
     "data": {
      "text/html": [
       "<div>\n",
       "<style scoped>\n",
       "    .dataframe tbody tr th:only-of-type {\n",
       "        vertical-align: middle;\n",
       "    }\n",
       "\n",
       "    .dataframe tbody tr th {\n",
       "        vertical-align: top;\n",
       "    }\n",
       "\n",
       "    .dataframe thead th {\n",
       "        text-align: right;\n",
       "    }\n",
       "</style>\n",
       "<table border=\"1\" class=\"dataframe\">\n",
       "  <thead>\n",
       "    <tr style=\"text-align: right;\">\n",
       "      <th></th>\n",
       "      <th>index</th>\n",
       "      <th>price</th>\n",
       "      <th>total_volume</th>\n",
       "      <th>market_cap</th>\n",
       "    </tr>\n",
       "  </thead>\n",
       "  <tbody>\n",
       "    <tr>\n",
       "      <th>count</th>\n",
       "      <td>2938.000000</td>\n",
       "      <td>2938.000000</td>\n",
       "      <td>2.938000e+03</td>\n",
       "      <td>2.937000e+03</td>\n",
       "    </tr>\n",
       "    <tr>\n",
       "      <th>mean</th>\n",
       "      <td>1469.500000</td>\n",
       "      <td>13352.650275</td>\n",
       "      <td>1.698026e+10</td>\n",
       "      <td>2.472976e+11</td>\n",
       "    </tr>\n",
       "    <tr>\n",
       "      <th>std</th>\n",
       "      <td>848.271871</td>\n",
       "      <td>16277.186580</td>\n",
       "      <td>2.313031e+10</td>\n",
       "      <td>3.079666e+11</td>\n",
       "    </tr>\n",
       "    <tr>\n",
       "      <th>min</th>\n",
       "      <td>1.000000</td>\n",
       "      <td>172.147900</td>\n",
       "      <td>1.823845e+07</td>\n",
       "      <td>2.362640e+09</td>\n",
       "    </tr>\n",
       "    <tr>\n",
       "      <th>25%</th>\n",
       "      <td>735.250000</td>\n",
       "      <td>897.687200</td>\n",
       "      <td>1.035989e+09</td>\n",
       "      <td>1.445143e+10</td>\n",
       "    </tr>\n",
       "    <tr>\n",
       "      <th>50%</th>\n",
       "      <td>1469.500000</td>\n",
       "      <td>7394.947845</td>\n",
       "      <td>6.232231e+09</td>\n",
       "      <td>1.307080e+11</td>\n",
       "    </tr>\n",
       "    <tr>\n",
       "      <th>75%</th>\n",
       "      <td>2203.750000</td>\n",
       "      <td>17702.184730</td>\n",
       "      <td>2.738961e+10</td>\n",
       "      <td>3.295450e+11</td>\n",
       "    </tr>\n",
       "    <tr>\n",
       "      <th>max</th>\n",
       "      <td>2938.000000</td>\n",
       "      <td>67617.015540</td>\n",
       "      <td>4.293080e+11</td>\n",
       "      <td>1.278800e+12</td>\n",
       "    </tr>\n",
       "  </tbody>\n",
       "</table>\n",
       "</div>"
      ],
      "text/plain": [
       "             index         price  total_volume    market_cap\n",
       "count  2938.000000   2938.000000  2.938000e+03  2.937000e+03\n",
       "mean   1469.500000  13352.650275  1.698026e+10  2.472976e+11\n",
       "std     848.271871  16277.186580  2.313031e+10  3.079666e+11\n",
       "min       1.000000    172.147900  1.823845e+07  2.362640e+09\n",
       "25%     735.250000    897.687200  1.035989e+09  1.445143e+10\n",
       "50%    1469.500000   7394.947845  6.232231e+09  1.307080e+11\n",
       "75%    2203.750000  17702.184730  2.738961e+10  3.295450e+11\n",
       "max    2938.000000  67617.015540  4.293080e+11  1.278800e+12"
      ]
     },
     "execution_count": 3,
     "metadata": {},
     "output_type": "execute_result"
    }
   ],
   "source": [
    "datafile.describe()"
   ]
  },
  {
   "cell_type": "code",
   "execution_count": 4,
   "id": "914ca986-7230-4201-9aa3-58f79eb40203",
   "metadata": {},
   "outputs": [
    {
     "data": {
      "text/plain": [
       "Index(['index', 'date', 'price', 'total_volume', 'market_cap', 'coin_name'], dtype='object')"
      ]
     },
     "execution_count": 4,
     "metadata": {},
     "output_type": "execute_result"
    }
   ],
   "source": [
    "datafile.columns"
   ]
  },
  {
   "cell_type": "code",
   "execution_count": 5,
   "id": "77968075-2ef6-4df2-8e8a-18d47ca91c87",
   "metadata": {},
   "outputs": [],
   "source": [
    "datafile = datafile.dropna(axis=0)"
   ]
  },
  {
   "cell_type": "code",
   "execution_count": 6,
   "id": "13f12ea4-08de-47c5-b616-698bad73bfd9",
   "metadata": {},
   "outputs": [],
   "source": [
    "#Selecting The Prediction Target\n",
    "y = datafile['price']"
   ]
  },
  {
   "cell_type": "code",
   "execution_count": 7,
   "id": "d5542c0e-78cf-4602-b5e0-75736b98f149",
   "metadata": {},
   "outputs": [
    {
     "data": {
      "text/html": [
       "<div>\n",
       "<style scoped>\n",
       "    .dataframe tbody tr th:only-of-type {\n",
       "        vertical-align: middle;\n",
       "    }\n",
       "\n",
       "    .dataframe tbody tr th {\n",
       "        vertical-align: top;\n",
       "    }\n",
       "\n",
       "    .dataframe thead th {\n",
       "        text-align: right;\n",
       "    }\n",
       "</style>\n",
       "<table border=\"1\" class=\"dataframe\">\n",
       "  <thead>\n",
       "    <tr style=\"text-align: right;\">\n",
       "      <th></th>\n",
       "      <th>total_volume</th>\n",
       "      <th>market_cap</th>\n",
       "    </tr>\n",
       "  </thead>\n",
       "  <tbody>\n",
       "    <tr>\n",
       "      <th>0</th>\n",
       "      <td>4.699936e+07</td>\n",
       "      <td>4.293958e+09</td>\n",
       "    </tr>\n",
       "    <tr>\n",
       "      <th>1</th>\n",
       "      <td>3.885591e+07</td>\n",
       "      <td>4.301448e+09</td>\n",
       "    </tr>\n",
       "    <tr>\n",
       "      <th>2</th>\n",
       "      <td>1.187789e+08</td>\n",
       "      <td>3.921358e+09</td>\n",
       "    </tr>\n",
       "    <tr>\n",
       "      <th>3</th>\n",
       "      <td>2.055001e+08</td>\n",
       "      <td>3.571640e+09</td>\n",
       "    </tr>\n",
       "    <tr>\n",
       "      <th>4</th>\n",
       "      <td>1.550381e+08</td>\n",
       "      <td>3.740880e+09</td>\n",
       "    </tr>\n",
       "    <tr>\n",
       "      <th>...</th>\n",
       "      <td>...</td>\n",
       "      <td>...</td>\n",
       "    </tr>\n",
       "    <tr>\n",
       "      <th>2933</th>\n",
       "      <td>4.802511e+10</td>\n",
       "      <td>3.633810e+11</td>\n",
       "    </tr>\n",
       "    <tr>\n",
       "      <th>2934</th>\n",
       "      <td>3.951442e+10</td>\n",
       "      <td>3.826750e+11</td>\n",
       "    </tr>\n",
       "    <tr>\n",
       "      <th>2935</th>\n",
       "      <td>4.949871e+10</td>\n",
       "      <td>4.052100e+11</td>\n",
       "    </tr>\n",
       "    <tr>\n",
       "      <th>2936</th>\n",
       "      <td>2.307213e+10</td>\n",
       "      <td>4.016970e+11</td>\n",
       "    </tr>\n",
       "    <tr>\n",
       "      <th>2937</th>\n",
       "      <td>3.480939e+10</td>\n",
       "      <td>4.077600e+11</td>\n",
       "    </tr>\n",
       "  </tbody>\n",
       "</table>\n",
       "<p>2937 rows × 2 columns</p>\n",
       "</div>"
      ],
      "text/plain": [
       "      total_volume    market_cap\n",
       "0     4.699936e+07  4.293958e+09\n",
       "1     3.885591e+07  4.301448e+09\n",
       "2     1.187789e+08  3.921358e+09\n",
       "3     2.055001e+08  3.571640e+09\n",
       "4     1.550381e+08  3.740880e+09\n",
       "...            ...           ...\n",
       "2933  4.802511e+10  3.633810e+11\n",
       "2934  3.951442e+10  3.826750e+11\n",
       "2935  4.949871e+10  4.052100e+11\n",
       "2936  2.307213e+10  4.016970e+11\n",
       "2937  3.480939e+10  4.077600e+11\n",
       "\n",
       "[2937 rows x 2 columns]"
      ]
     },
     "execution_count": 7,
     "metadata": {},
     "output_type": "execute_result"
    }
   ],
   "source": [
    "datafile_features = ['total_volume', 'market_cap']\n",
    "X = datafile[datafile_features]\n",
    "X"
   ]
  },
  {
   "cell_type": "code",
   "execution_count": 8,
   "id": "5aaf4ab6-d4d5-40a6-a05b-962bc855e5c5",
   "metadata": {},
   "outputs": [
    {
     "data": {
      "text/plain": [
       "DecisionTreeRegressor(random_state=1)"
      ]
     },
     "execution_count": 8,
     "metadata": {},
     "output_type": "execute_result"
    }
   ],
   "source": [
    "from sklearn.tree import DecisionTreeRegressor\n",
    "\n",
    "# Define model. Specify a number for random_state to ensure same results each run\n",
    "data_model = DecisionTreeRegressor(random_state=1)\n",
    "\n",
    "# Fit model\n",
    "data_model.fit(X, y)"
   ]
  },
  {
   "cell_type": "code",
   "execution_count": 9,
   "id": "9c4bf4ff-f1bb-461a-b5ac-f15023cba204",
   "metadata": {},
   "outputs": [
    {
     "name": "stdout",
     "output_type": "stream",
     "text": [
      "Making predictions for the following Cases:\n",
      "      total_volume    market_cap\n",
      "0     4.699936e+07  4.293958e+09\n",
      "1     3.885591e+07  4.301448e+09\n",
      "2     1.187789e+08  3.921358e+09\n",
      "3     2.055001e+08  3.571640e+09\n",
      "4     1.550381e+08  3.740880e+09\n",
      "...            ...           ...\n",
      "2933  4.802511e+10  3.633810e+11\n",
      "2934  3.951442e+10  3.826750e+11\n",
      "2935  4.949871e+10  4.052100e+11\n",
      "2936  2.307213e+10  4.016970e+11\n",
      "2937  3.480939e+10  4.077600e+11\n",
      "\n",
      "[2937 rows x 2 columns]\n",
      "The predictions are\n",
      "[  313.992     314.446     286.572   ... 21019.20661 20853.23057\n",
      " 21175.33774]\n"
     ]
    }
   ],
   "source": [
    "print(\"Making predictions for the following Cases:\")\n",
    "print(X)\n",
    "print(\"The predictions are\")\n",
    "print(data_model.predict(X))"
   ]
  },
  {
   "cell_type": "code",
   "execution_count": 13,
   "id": "55934999-14dd-49af-abd0-acd1067ddab0",
   "metadata": {},
   "outputs": [
    {
     "name": "stdout",
     "output_type": "stream",
     "text": [
      "620.7531672998136\n"
     ]
    }
   ],
   "source": [
    "from sklearn.model_selection import train_test_split\n",
    "from sklearn.metrics import mean_absolute_error\n",
    "\n",
    "train=datafile[:2400]\n",
    "test=datafile[2400:]\n",
    "train_features = ['total_volume', 'market_cap']\n",
    "X_train = train[train_features]\n",
    "Y_train = train['price']\n",
    "X_val = test[train_features]\n",
    "Y_val = test['price']\n",
    "\n",
    "data_model = DecisionTreeRegressor()\n",
    "# Fit model\n",
    "data_model.fit(X_train, Y_train)\n",
    "\n",
    "# get predicted prices on validation data\n",
    "val_predictions = data_model.predict(X_val)\n",
    "print(mean_absolute_error(Y_val, val_predictions))"
   ]
  },
  {
   "cell_type": "code",
   "execution_count": 14,
   "id": "87e84d99-0df8-41d1-ba93-ceb61ea3b871",
   "metadata": {},
   "outputs": [
    {
     "data": {
      "text/html": [
       "<div>\n",
       "<style scoped>\n",
       "    .dataframe tbody tr th:only-of-type {\n",
       "        vertical-align: middle;\n",
       "    }\n",
       "\n",
       "    .dataframe tbody tr th {\n",
       "        vertical-align: top;\n",
       "    }\n",
       "\n",
       "    .dataframe thead th {\n",
       "        text-align: right;\n",
       "    }\n",
       "</style>\n",
       "<table border=\"1\" class=\"dataframe\">\n",
       "  <thead>\n",
       "    <tr style=\"text-align: right;\">\n",
       "      <th></th>\n",
       "      <th>index</th>\n",
       "      <th>date</th>\n",
       "      <th>price</th>\n",
       "      <th>total_volume</th>\n",
       "      <th>market_cap</th>\n",
       "      <th>coin_name</th>\n",
       "    </tr>\n",
       "  </thead>\n",
       "  <tbody>\n",
       "    <tr>\n",
       "      <th>0</th>\n",
       "      <td>1</td>\n",
       "      <td>1/1/2015</td>\n",
       "      <td>313.99200</td>\n",
       "      <td>4.699936e+07</td>\n",
       "      <td>4.293958e+09</td>\n",
       "      <td>bitcoin</td>\n",
       "    </tr>\n",
       "    <tr>\n",
       "      <th>1</th>\n",
       "      <td>2</td>\n",
       "      <td>1/2/2015</td>\n",
       "      <td>314.44600</td>\n",
       "      <td>3.885591e+07</td>\n",
       "      <td>4.301448e+09</td>\n",
       "      <td>bitcoin</td>\n",
       "    </tr>\n",
       "    <tr>\n",
       "      <th>2</th>\n",
       "      <td>3</td>\n",
       "      <td>1/3/2015</td>\n",
       "      <td>286.57200</td>\n",
       "      <td>1.187789e+08</td>\n",
       "      <td>3.921358e+09</td>\n",
       "      <td>bitcoin</td>\n",
       "    </tr>\n",
       "    <tr>\n",
       "      <th>3</th>\n",
       "      <td>4</td>\n",
       "      <td>1/4/2015</td>\n",
       "      <td>260.93600</td>\n",
       "      <td>2.055001e+08</td>\n",
       "      <td>3.571640e+09</td>\n",
       "      <td>bitcoin</td>\n",
       "    </tr>\n",
       "    <tr>\n",
       "      <th>4</th>\n",
       "      <td>5</td>\n",
       "      <td>1/5/2015</td>\n",
       "      <td>273.22000</td>\n",
       "      <td>1.550381e+08</td>\n",
       "      <td>3.740880e+09</td>\n",
       "      <td>bitcoin</td>\n",
       "    </tr>\n",
       "    <tr>\n",
       "      <th>...</th>\n",
       "      <td>...</td>\n",
       "      <td>...</td>\n",
       "      <td>...</td>\n",
       "      <td>...</td>\n",
       "      <td>...</td>\n",
       "      <td>...</td>\n",
       "    </tr>\n",
       "    <tr>\n",
       "      <th>2396</th>\n",
       "      <td>2397</td>\n",
       "      <td>7/25/2021</td>\n",
       "      <td>34213.59993</td>\n",
       "      <td>2.212032e+10</td>\n",
       "      <td>6.420130e+11</td>\n",
       "      <td>bitcoin</td>\n",
       "    </tr>\n",
       "    <tr>\n",
       "      <th>2397</th>\n",
       "      <td>2398</td>\n",
       "      <td>7/26/2021</td>\n",
       "      <td>35456.12466</td>\n",
       "      <td>2.092908e+10</td>\n",
       "      <td>6.646810e+11</td>\n",
       "      <td>bitcoin</td>\n",
       "    </tr>\n",
       "    <tr>\n",
       "      <th>2398</th>\n",
       "      <td>2399</td>\n",
       "      <td>7/27/2021</td>\n",
       "      <td>37281.91809</td>\n",
       "      <td>5.355049e+10</td>\n",
       "      <td>7.019210e+11</td>\n",
       "      <td>bitcoin</td>\n",
       "    </tr>\n",
       "    <tr>\n",
       "      <th>2399</th>\n",
       "      <td>2400</td>\n",
       "      <td>7/28/2021</td>\n",
       "      <td>39076.59377</td>\n",
       "      <td>3.640129e+10</td>\n",
       "      <td>7.323120e+11</td>\n",
       "      <td>bitcoin</td>\n",
       "    </tr>\n",
       "    <tr>\n",
       "      <th>2400</th>\n",
       "      <td>2401</td>\n",
       "      <td>7/29/2021</td>\n",
       "      <td>40031.19824</td>\n",
       "      <td>4.136911e+10</td>\n",
       "      <td>7.513710e+11</td>\n",
       "      <td>bitcoin</td>\n",
       "    </tr>\n",
       "  </tbody>\n",
       "</table>\n",
       "<p>2400 rows × 6 columns</p>\n",
       "</div>"
      ],
      "text/plain": [
       "      index       date        price  total_volume    market_cap coin_name\n",
       "0         1   1/1/2015    313.99200  4.699936e+07  4.293958e+09   bitcoin\n",
       "1         2   1/2/2015    314.44600  3.885591e+07  4.301448e+09   bitcoin\n",
       "2         3   1/3/2015    286.57200  1.187789e+08  3.921358e+09   bitcoin\n",
       "3         4   1/4/2015    260.93600  2.055001e+08  3.571640e+09   bitcoin\n",
       "4         5   1/5/2015    273.22000  1.550381e+08  3.740880e+09   bitcoin\n",
       "...     ...        ...          ...           ...           ...       ...\n",
       "2396   2397  7/25/2021  34213.59993  2.212032e+10  6.420130e+11   bitcoin\n",
       "2397   2398  7/26/2021  35456.12466  2.092908e+10  6.646810e+11   bitcoin\n",
       "2398   2399  7/27/2021  37281.91809  5.355049e+10  7.019210e+11   bitcoin\n",
       "2399   2400  7/28/2021  39076.59377  3.640129e+10  7.323120e+11   bitcoin\n",
       "2400   2401  7/29/2021  40031.19824  4.136911e+10  7.513710e+11   bitcoin\n",
       "\n",
       "[2400 rows x 6 columns]"
      ]
     },
     "execution_count": 14,
     "metadata": {},
     "output_type": "execute_result"
    }
   ],
   "source": [
    "train"
   ]
  },
  {
   "cell_type": "code",
   "execution_count": 15,
   "id": "45ff78ae-facb-437b-83db-fb1693505ee5",
   "metadata": {},
   "outputs": [
    {
     "data": {
      "text/plain": [
       "<matplotlib.legend.Legend at 0x123871e7c70>"
      ]
     },
     "execution_count": 15,
     "metadata": {},
     "output_type": "execute_result"
    },
    {
     "data": {
      "image/png": "[encoded data removed]",
      "text/plain": [
       "<Figure size 864x576 with 1 Axes>"
      ]
     },
     "metadata": {
      "needs_background": "light"
     },
     "output_type": "display_data"
    }
   ],
   "source": [
    "plt.figure(figsize=(12,8))\n",
    "plt.plot(train['index'], Y_train, label = 'Training')    \n",
    "plt.plot(test['index'], Y_val, label = 'Validation')  \n",
    "plt.plot(test['index'], val_predictions, label ='Prediction')\n",
    "plt.legend(loc='best', fontsize=15)"
   ]
  },
  {
   "cell_type": "code",
   "execution_count": 16,
   "id": "85ae7bfc-1a59-4443-a816-c2448aafbb5e",
   "metadata": {},
   "outputs": [
    {
     "name": "stdout",
     "output_type": "stream",
     "text": [
      "680.5593368277455\n"
     ]
    }
   ],
   "source": [
    "from sklearn.ensemble import RandomForestRegressor\n",
    "from sklearn.metrics import mean_absolute_error\n",
    "\n",
    "forest_model = RandomForestRegressor(random_state=1)\n",
    "forest_model.fit(X_train, Y_train)\n",
    "Btc_preds = forest_model.predict(X_val)\n",
    "print(mean_absolute_error(Y_val, Btc_preds))"
   ]
  },
  {
   "cell_type": "code",
   "execution_count": 17,
   "id": "bd27fa83-df42-4ced-a473-d86bb16d274b",
   "metadata": {},
   "outputs": [
    {
     "data": {
      "text/plain": [
       "<matplotlib.legend.Legend at 0x12387195eb0>"
      ]
     },
     "execution_count": 17,
     "metadata": {},
     "output_type": "execute_result"
    },
    {
     "data": {
      "image/png": "[encoded data removed]",
      "text/plain": [
       "<Figure size 864x576 with 1 Axes>"
      ]
     },
     "metadata": {
      "needs_background": "light"
     },
     "output_type": "display_data"
    }
   ],
   "source": [
    "plt.figure(figsize=(12,8))\n",
    "plt.plot(train['index'], Y_train, label ='Training')    \n",
    "plt.plot(test['index'], Y_val, label ='Validation')  \n",
    "plt.plot(test['index'], Btc_preds, label ='model') \n",
    "plt.legend(loc='best', fontsize=15)"
   ]
  },
  {
   "cell_type": "code",
   "execution_count": 18,
   "id": "9c6bffd2-fd05-4997-b243-17b2719cfe23",
   "metadata": {},
   "outputs": [
    {
     "data": {
      "text/plain": [
       "XGBRegressor(base_score=None, booster=None, callbacks=None,\n",
       "             colsample_bylevel=None, colsample_bynode=None,\n",
       "             colsample_bytree=None, early_stopping_rounds=None,\n",
       "             enable_categorical=False, eval_metric=None, feature_types=None,\n",
       "             gamma=None, gpu_id=None, grow_policy=None, importance_type=None,\n",
       "             interaction_constraints=None, learning_rate=0.05, max_bin=None,\n",
       "             max_cat_threshold=None, max_cat_to_onehot=None,\n",
       "             max_delta_step=None, max_depth=None, max_leaves=None,\n",
       "             min_child_weight=None, missing=nan, monotone_constraints=None,\n",
       "             n_estimators=1000, n_jobs=None, num_parallel_tree=None,\n",
       "             predictor=None, random_state=None, ...)"
      ]
     },
     "execution_count": 18,
     "metadata": {},
     "output_type": "execute_result"
    }
   ],
   "source": [
    "from xgboost import XGBRegressor\n",
    "\n",
    "my_model = XGBRegressor(n_estimators=1000, learning_rate=0.05)\n",
    "my_model.fit(X_train, Y_train)"
   ]
  },
  {
   "cell_type": "code",
   "execution_count": 19,
   "id": "15c8ab18-2601-43f2-b5c8-2763c70f8dc1",
   "metadata": {},
   "outputs": [
    {
     "name": "stdout",
     "output_type": "stream",
     "text": [
      "Mean Absolute Error: 698.3438418616155\n"
     ]
    }
   ],
   "source": [
    "predictions = my_model.predict(X_val)\n",
    "print(\"Mean Absolute Error: \" + str(mean_absolute_error(predictions, Y_val)))"
   ]
  },
  {
   "cell_type": "code",
   "execution_count": 20,
   "id": "0775167a-c90d-4fa2-af72-9f79e036b688",
   "metadata": {},
   "outputs": [
    {
     "data": {
      "text/plain": [
       "<matplotlib.legend.Legend at 0x12389a67bb0>"
      ]
     },
     "execution_count": 20,
     "metadata": {},
     "output_type": "execute_result"
    },
    {
     "data": {
      "image/png": "[encoded data removed]",
      "text/plain": [
       "<Figure size 864x576 with 1 Axes>"
      ]
     },
     "metadata": {
      "needs_background": "light"
     },
     "output_type": "display_data"
    }
   ],
   "source": [
    "plt.figure(figsize=(12,8))\n",
    "plt.plot(train['index'], Y_train, label ='Training')    \n",
    "plt.plot(test['index'], Y_val, label ='Validation')  \n",
    "plt.plot(test['index'], predictions, label ='model') \n",
    "plt.legend(loc='best', fontsize=15)"
   ]
  },
  {
   "cell_type": "code",
   "execution_count": null,
   "id": "ab441c3c-a7b9-42ac-af4b-3287b86f0d4b",
   "metadata": {},
   "outputs": [],
   "source": []
  }
 ],
 "metadata": {
  "kernelspec": {
   "display_name": "Python 3 (ipykernel)",
   "language": "python",
   "name": "python3"
  },
  "language_info": {
   "codemirror_mode": {
    "name": "ipython",
    "version": 3
   },
   "file_extension": ".py",
   "mimetype": "text/x-python",
   "name": "python",
   "nbconvert_exporter": "python",
   "pygments_lexer": "ipython3",
   "version": "3.9.12"
  }
 },
 "nbformat": 4,
 "nbformat_minor": 5
}
